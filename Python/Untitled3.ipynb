{
 "cells": [
  {
   "cell_type": "code",
   "execution_count": 2,
   "metadata": {},
   "outputs": [
    {
     "data": {
      "text/plain": [
       "<Figure size 640x480 with 1 Axes>"
      ]
     },
     "metadata": {},
     "output_type": "display_data"
    }
   ],
   "source": [
    "#!/usr/bin/env python3\n",
    "# -*- coding: utf-8 -*-\n",
    "\n",
    "import pandas as pd\n",
    "import numpy as np\n",
    "import matplotlib.pyplot as plt\n",
    "from sklearn.metrics import mean_squared_error\n",
    "dataset=pd.read_csv(r\"C:\\Users\\kkisho15\\Downloads\\heightweight.csv\")\n",
    "X=dataset.iloc[:,0].values.reshape(6,1)\n",
    "y=dataset.iloc[:,1].values.reshape(6,1)\n",
    "Xtx=np.dot(X.T,X)\n",
    "Xtxinv=np.linalg.inv(Xtx)\n",
    "Xty=np.dot(X.T,y)\n",
    "theta=np.dot(Xtxinv,Xty)\n",
    "yhat=X.dot(theta)\n",
    "\n",
    "\"\"\"\n",
    "Absolute error calculation\n",
    "First take the absolute values of error\n",
    "Then sum the absolute values\n",
    "\"\"\"\n",
    "absError=np.absolute(yhat-y)\n",
    "LeastAbsoluteError=np.sum(absError)\n",
    "\n",
    "\"\"\"\n",
    "RMSE calculation\n",
    "Square the error\n",
    "Sum the squared error\n",
    "Divide by no. of training examples\n",
    "square root of the mean\n",
    "\"\"\"\n",
    "SqrError=np.square(yhat-y)\n",
    "totalSqrError=np.sum(SqrError)\n",
    "RMSE=np.sqrt(totalSqrError/6)\n",
    "\n",
    "\"\"\"\n",
    "RMSE using Sklearn library\n",
    "\"\"\"\n",
    "rmse = np.sqrt(mean_squared_error(y, yhat))\n",
    "plt.scatter(X,y, c=\"r\")\n",
    "plt.plot(X,yhat, c=\"b\")\n",
    "plt.show()\n"
   ]
  },
  {
   "cell_type": "code",
   "execution_count": null,
   "metadata": {},
   "outputs": [],
   "source": []
  }
 ],
 "metadata": {
  "kernelspec": {
   "display_name": "Python 3",
   "language": "python",
   "name": "python3"
  }
 },
 "nbformat": 4,
 "nbformat_minor": 2
}
